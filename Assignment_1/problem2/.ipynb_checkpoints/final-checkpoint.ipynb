{
 "cells": [
  {
   "cell_type": "code",
   "execution_count": 1,
   "id": "ebfd7617",
   "metadata": {},
   "outputs": [],
   "source": [
    "import cv2\n",
    "import math\n",
    "import numpy as np\n",
    "from skimage.draw import line"
   ]
  },
  {
   "cell_type": "markdown",
   "id": "3a8f37a0",
   "metadata": {},
   "source": [
    "# Requirement 1\n",
    "Given is a 2D grid-map and a robot pose (x, y, θ):\n",
    "\n",
    "Assume that every pixel has a size of 4cm x 4cm.\n",
    "\n",
    "Generate laser-range measurements for an opening angle of 250° (125° left and right of the heading direction), \n",
    "every 2° by ray casting.\n",
    "\n",
    "Use a maximum measurement range of 12m."
   ]
  },
  {
   "cell_type": "code",
   "execution_count": 2,
   "id": "aff0c8a2",
   "metadata": {},
   "outputs": [],
   "source": [
    "actual_distances = []\n",
    "actual_endpoints = []\n",
    "actual_obstacles = []\n",
    "\n",
    "def generate_laser_measurements(image_path, x, y, theta):\n",
    "    \n",
    "    map_image = cv2.imread(image_path, cv2.IMREAD_COLOR)    \n",
    "    map_image_all = map_image.copy()\n",
    "    map_image_closest = map_image.copy()\n",
    "    map_obstacles = np.ones((map_image.shape))\n",
    "\n",
    "    \n",
    "    cv2.circle(map_image, (x,y), 15, (0,0,255), thickness=-1)\n",
    "    cv2.circle(map_image_all, (x,y), 15, (0,0,255), thickness=-1)\n",
    "    cv2.circle(map_image_closest, (x,y), 15, (0,0,255), thickness=-1)\n",
    "    \n",
    "    cv2.line(map_image, (x, y), (int(x + 14 * np.cos(theta * np.pi / 180.0)), int(y + 14 * np.sin(theta * np.pi / 180.0))), (255,0,0), thickness=2)\n",
    "\n",
    "    \n",
    "    for angle in range(theta - 125, theta + 125 + 1 , 2):\n",
    "\n",
    "        r = 12 * 100 / 4   # 12 m * 100 = 1200 cm / 4 = 300 pixel     \n",
    "        x_endpoint = int(x + r * np.cos(angle * np.pi / 180.0))\n",
    "        y_endpoint = int(y + r * np.sin(angle * np.pi / 180.0))\n",
    "\n",
    "        rr, cc = line(x, y, x_endpoint, y_endpoint)\n",
    "\n",
    "        cv2.line(map_image_all, (x, y), (x_endpoint, y_endpoint), (0,255,0), thickness=1)\n",
    "        \n",
    "        closest_endpoint = (x_endpoint, y_endpoint)\n",
    "        for i in range(len(rr)):\n",
    "            if np.linalg.norm(map_image[cc[i], rr[i]] - np.array((0,0,0))) == 0 :\n",
    "                closest_endpoint = (rr[i], cc[i])\n",
    "                break\n",
    "            \n",
    "        cv2.line(map_image_closest, (x, y), closest_endpoint, (0,255,0), thickness=1)\n",
    "        \n",
    "        closest_distance = np.linalg.norm(np.array((x,y)) - np.array(closest_endpoint))\n",
    "        \n",
    "        actual_distances.append(closest_distance)\n",
    "        actual_endpoints.append(closest_endpoint)\n",
    "        actual_obstacles.append(int(closest_distance < 300))\n",
    "        \n",
    "        if(int(closest_distance < 300)):\n",
    "            map_obstacles[closest_endpoint[1],closest_endpoint[0]] = 0\n",
    "\n",
    "    cv2.imwrite(\"Initial Map.jpg\", map_image)\n",
    "    \n",
    "    cv2.imwrite(\"Map with max length lines.jpg\", map_image_all)\n",
    "    \n",
    "    cv2.imwrite(\"Map with lines to closest obstacle.jpg\", map_image_closest)"
   ]
  },
  {
   "cell_type": "code",
   "execution_count": 3,
   "id": "96f369f9",
   "metadata": {},
   "outputs": [
    {
     "name": "stdout",
     "output_type": "stream",
     "text": [
      "(400, 680, 3)\n"
     ]
    }
   ],
   "source": [
    "image = cv2.imread('map.jpg', cv2.IMREAD_COLOR)\n",
    "print(image.shape)"
   ]
  },
  {
   "cell_type": "code",
   "execution_count": 4,
   "id": "de0e1821",
   "metadata": {},
   "outputs": [],
   "source": [
    "robot_orientation = 200\n",
    "robot_position = (350, 190)\n",
    "generate_laser_measurements('map.jpg', robot_position[0], robot_position[1], robot_orientation)"
   ]
  },
  {
   "cell_type": "code",
   "execution_count": 5,
   "id": "16b78750",
   "metadata": {
    "scrolled": true
   },
   "outputs": [
    {
     "name": "stdout",
     "output_type": "stream",
     "text": [
      "angle        endpoint                distance                isobstacle\n",
      "75          (405, 398)          215.14878572745886          1\n",
      "77          (398, 398)          213.46662502602135          1\n",
      "79          (390, 398)          211.81123671797963          1\n",
      "81          (382, 398)          210.44714300745449          1\n",
      "83          (375, 398)          209.49701668520245          1\n",
      "85          (362, 322)          132.54433220624713          1\n",
      "87          (357, 321)          131.18688958886096          1\n",
      "89          (352, 322)          132.015150645674          1\n",
      "91          (347, 322)          132.03408650799233          1\n",
      "93          (339, 398)          208.290662296705          1\n",
      "95          (337, 328)          138.61096637712328          1\n",
      "97          (336, 304)          114.85643212288984          1\n",
      "99          (332, 303)          114.42464769445436          1\n",
      "101          (328, 303)          115.12167476196652          1\n",
      "103          (324, 303)          115.95257651298655          1\n",
      "105          (320, 303)          116.91449867317569          1\n",
      "107          (315, 303)          118.29623831720095          1\n",
      "109          (311, 303)          119.54078801814885          1\n",
      "111          (306, 303)          121.26417442921878          1\n",
      "113          (302, 303)          122.7721466783081          1\n",
      "115          (297, 303)          124.8118584109699          1\n",
      "117          (292, 303)          127.01574705523721          1\n",
      "119          (252, 365)          200.57168294652163          1\n",
      "121          (252, 352)          189.33568073662187          1\n",
      "123          (252, 340)          179.17589123540031          1\n",
      "125          (252, 329)          170.07351351694948          1\n",
      "127          (252, 319)          162.00308639035245          1\n",
      "129          (252, 311)          155.7080601638849          1\n",
      "131          (252, 302)          148.8220413782851          1\n",
      "133          (252, 295)          143.62799170078233          1\n",
      "135          (333, 207)          24.041630560342615          1\n",
      "137          (333, 206)          23.345235059857504          1\n",
      "139          (333, 205)          22.67156809750927          1\n",
      "141          (329, 207)          27.018512172212592          1\n",
      "143          (331, 204)          23.600847442411894          1\n",
      "145          (329, 205)          25.80697580112788          1\n",
      "147          (329, 204)          25.238858928247925          1\n",
      "149          (325, 205)          29.154759474226502          1\n",
      "151          (323, 205)          30.886890422961002          1\n",
      "153          (321, 205)          32.64965543462902          1\n",
      "155          (318, 205)          35.34119409414458          1\n",
      "157          (315, 205)          38.07886552931954          1\n",
      "159          (311, 205)          41.78516483155236          1\n",
      "161          (307, 205)          45.5411901469428          1\n",
      "163          (302, 205)          50.28916384272063          1\n",
      "165          (295, 205)          57.0087712549569          1\n",
      "167          (286, 205)          65.73431371817918          1\n",
      "169          (274, 205)          77.46612162745726          1\n",
      "171          (256, 205)          95.1892851112981          1\n",
      "173          (229, 205)          121.92620719107111          1\n",
      "175          (183, 205)          167.6722994414999          1\n",
      "177          (60, 205)          290.38767191463205          1\n",
      "179          (50, 195)          300.04166377354994          0\n",
      "181          (50, 184)          300.0599940011997          0\n",
      "183          (50, 174)          300.4263636900064          0\n",
      "185          (51, 163)          300.2165884823822          0\n",
      "187          (112, 160)          239.88330496305906          1\n",
      "189          (152, 159)          200.4120754844877          1\n",
      "191          (199, 160)          153.95129099815955          1\n",
      "193          (219, 160)          134.39121995130486          1\n",
      "195          (191, 147)          164.7118696390761          1\n",
      "197          (208, 146)          148.66068747318505          1\n",
      "199          (264, 160)          91.0823802938856          1\n",
      "201          (273, 160)          82.63776376451628          1\n",
      "203          (280, 160)          76.15773105863909          1\n",
      "205          (286, 160)          70.68238818828917          1\n",
      "207          (292, 160)          65.29931086925804          1\n",
      "209          (296, 160)          61.773780845922005          1\n",
      "211          (300, 160)          58.309518948453004          1\n",
      "213          (304, 160)          54.91812087098393          1\n",
      "215          (308, 160)          51.61395160225576          1\n",
      "217          (310, 160)          50.0          1\n",
      "219          (313, 160)          47.634021455258214          1\n",
      "221          (315, 160)          46.09772228646444          1\n",
      "223          (318, 160)          43.86342439892262          1\n",
      "225          (319, 159)          43.840620433565945          1\n",
      "227          (321, 159)          42.44997055358225          1\n",
      "229          (322, 158)          42.5205832509386          1\n",
      "231          (300, 128)          79.64923100695951          1\n",
      "233          (300, 124)          82.80096617793781          1\n",
      "235          (300, 119)          86.83893136145792          1\n",
      "237          (300, 114)          90.97252332435328          1\n",
      "239          (300, 107)          96.89685237405806          1\n",
      "241          (300, 101)          102.08329931972223          1\n",
      "243          (300, 93)          109.12836478203089          1\n",
      "245          (300, 84)          117.2006825918689          1\n",
      "247          (300, 74)          126.31706139710502          1\n",
      "249          (300, 61)          138.351002887583          1\n",
      "251          (300, 47)          151.48927354766738          1\n",
      "253          (300, 29)          168.5852899869974          1\n",
      "255          (299, 2)          194.79476378999513          1\n",
      "257          (306, 2)          193.08029417835473          1\n",
      "259          (313, 2)          191.60636732634956          1\n",
      "261          (320, 2)          190.3785702225962          1\n",
      "263          (327, 2)          189.40168953839878          1\n",
      "265          (333, 2)          188.76705220985997          1\n",
      "267          (340, 2)          188.26576959181932          1\n",
      "269          (346, 2)          188.04254837669055          1\n",
      "271          (351, 115)          75.0066663703967          1\n",
      "273          (354, 114)          76.10519036176179          1\n",
      "275          (357, 114)          76.32168761236873          1\n",
      "277          (359, 114)          76.53103945458993          1\n",
      "279          (362, 114)          76.94153624668537          1\n",
      "281          (365, 114)          77.46612162745726          1\n",
      "283          (367, 114)          77.87810988975015          1\n",
      "285          (370, 114)          78.587530817554          1\n",
      "287          (373, 114)          79.40403012442127          1\n",
      "289          (376, 114)          80.32434251209281          1\n",
      "291          (379, 114)          81.34494452638098          1\n",
      "293          (382, 114)          82.46211251235322          1\n",
      "295          (365, 158)          35.34119409414458          1\n",
      "297          (365, 161)          32.64965543462902          1\n",
      "299          (367, 160)          34.48187929913333          1\n",
      "301          (368, 160)          34.9857113690718          1\n",
      "303          (369, 160)          35.510561809129406          1\n",
      "305          (371, 160)          36.61966684720111          1\n",
      "307          (373, 160)          37.8021163428716          1\n",
      "309          (374, 160)          38.41874542459709          1\n",
      "311          (376, 160)          39.698866482558415          1\n",
      "313          (378, 160)          41.036569057366385          1\n",
      "315          (380, 160)          42.42640687119285          1\n",
      "317          (382, 160)          43.86342439892262          1\n",
      "319          (385, 160)          46.09772228646444          1\n",
      "321          (387, 160)          47.634021455258214          1\n",
      "323          (389, 160)          49.20365840057018          1\n",
      "325          (392, 160)          51.61395160225576          1\n"
     ]
    }
   ],
   "source": [
    "start_angle = 200 - 125\n",
    "print('angle','      ' ,'endpoint','              ' ,'distance','              ' ,'isobstacle')\n",
    "\n",
    "for i in range(len(actual_distances)):\n",
    "    print(start_angle,'        ' ,actual_endpoints [i],'        ' ,actual_distances[i],'        ' ,actual_obstacles[i])\n",
    "    start_angle += 2"
   ]
  },
  {
   "cell_type": "markdown",
   "id": "6d8f06bd",
   "metadata": {},
   "source": [
    "# Requirement 2\n",
    "Implement the endpoint model for laser-range measurements.\n",
    "\n",
    "Test your model by computing the likelihood of the generated laser scan for a 3D-grid of poses (x, y, θ). \n",
    "\n",
    "For each 2D-cell of the x,y-grid of the map above, visualize the highest likelihood of all orientations θ as gray value.\n"
   ]
  },
  {
   "cell_type": "code",
   "execution_count": 2,
   "id": "be422ccd",
   "metadata": {},
   "outputs": [],
   "source": [
    "def endpoint_model (image_path, max_ray , sigma):\n",
    "    \n",
    "    map_image = cv2.imread(image_path, cv2.IMREAD_GRAYSCALE)\n",
    "    \n",
    "    _, binary_image = cv2.threshold(map_image, 127, 255, cv2.THRESH_BINARY)\n",
    "    \n",
    "    likelihood_field = cv2.distanceTransform(binary_image, cv2.DIST_L2, 0)\n",
    "    \n",
    "    likelihood_field = 1/np.sqrt(2 * np.pi * sigma) * np.exp(-0.5 * ((likelihood_field/sigma)**2 ) )\n",
    "    likelihood_field = likelihood_field / np.max(likelihood_field)\n",
    "    \n",
    "    name1 = 'likelihood_field_sigma_'+ str(sigma) +'.jpg'\n",
    "    \n",
    "    cv2.imwrite(name1, likelihood_field * 255)\n",
    "    \n",
    "    propbability_map = np.zeros(map_image.shape)\n",
    "    \n",
    "    for y in range (0 , likelihood_field.shape[0]):\n",
    "        for x in range (0 , likelihood_field.shape[1]):\n",
    "            \n",
    "            probabilities_over_theta=[]\n",
    "            for angle in range (0,360 , 1):\n",
    "                \n",
    "                probability = 1\n",
    "                x2 = round(x + max_ray * np.cos(angle * np.pi / 180))\n",
    "                y2 = round(y + max_ray * np.sin(angle * np.pi / 180))\n",
    "                                \n",
    "                if x2 < 0 or x2 >= likelihood_field.shape[1] or y2 < 0 or y2 >= likelihood_field.shape[0]:\n",
    "                    probability *= 0.00000001\n",
    "                else:\n",
    "                    probability *= likelihood_field[y2][x2]\n",
    "\n",
    "                probabilities_over_theta.append(probability) \n",
    "            \n",
    "            propbability_map[y][x]=np.max(probabilities_over_theta)\n",
    "    \n",
    "    name = 'propbability_map_max_'+ str(max_ray) +'_sigma_'+ str(sigma) +'.jpg'\n",
    "                \n",
    "    cv2.imwrite(name, propbability_map * 255)\n",
    "\n",
    "    return propbability_map"
   ]
  },
  {
   "cell_type": "code",
   "execution_count": null,
   "id": "a5e9d7bd",
   "metadata": {
    "scrolled": true
   },
   "outputs": [],
   "source": [
    "# max ray length = 0.1 m = 10 cm = 2.5 px\n",
    "sigma = 1\n",
    "max_ray = 0.1 * 100 / 4 \n",
    "propbability_map = endpoint_model('map.jpg', max_ray, sigma)"
   ]
  },
  {
   "cell_type": "code",
   "execution_count": 8,
   "id": "17ffb4a9",
   "metadata": {},
   "outputs": [],
   "source": [
    "sigma = 5\n",
    "max_ray = 0.1 * 100 / 4 \n",
    "propbability_map = endpoint_model('map.jpg', max_ray, sigma)"
   ]
  },
  {
   "cell_type": "code",
   "execution_count": 9,
   "id": "156382ba",
   "metadata": {},
   "outputs": [],
   "source": [
    "sigma = 10\n",
    "max_ray = 0.1 * 100 / 4 \n",
    "propbability_map = endpoint_model('map.jpg', max_ray, sigma)"
   ]
  },
  {
   "cell_type": "code",
   "execution_count": 10,
   "id": "4cb44eb0",
   "metadata": {},
   "outputs": [],
   "source": [
    "# max ray length = 0.5 m = 50 cm = 12.5 px\n",
    "sigma = 1\n",
    "max_ray = 0.5 * 100 / 4 \n",
    "propbability_map = endpoint_model('map.jpg', max_ray, sigma)"
   ]
  },
  {
   "cell_type": "code",
   "execution_count": 11,
   "id": "0532f625",
   "metadata": {},
   "outputs": [],
   "source": [
    "sigma = 5\n",
    "max_ray = 0.5 * 100 / 4 \n",
    "propbability_map = endpoint_model('map.jpg', max_ray, sigma)"
   ]
  },
  {
   "cell_type": "code",
   "execution_count": 12,
   "id": "88ceb494",
   "metadata": {},
   "outputs": [],
   "source": [
    "sigma = 10\n",
    "max_ray = 0.5 * 100 / 4 \n",
    "propbability_map = endpoint_model('map.jpg', max_ray, sigma)"
   ]
  },
  {
   "cell_type": "code",
   "execution_count": 13,
   "id": "e562f61f",
   "metadata": {},
   "outputs": [],
   "source": [
    "# max ray length = 1 m = 100 cm = 25 px\n",
    "sigma = 1\n",
    "max_ray = 1 * 100 / 4 \n",
    "propbability_map = endpoint_model('map.jpg', max_ray, sigma)"
   ]
  },
  {
   "cell_type": "code",
   "execution_count": 14,
   "id": "a2f19641",
   "metadata": {},
   "outputs": [],
   "source": [
    "sigma = 5\n",
    "max_ray = 1 * 100 / 4 \n",
    "propbability_map = endpoint_model('map.jpg', max_ray, sigma)"
   ]
  },
  {
   "cell_type": "code",
   "execution_count": 15,
   "id": "6184aadc",
   "metadata": {},
   "outputs": [],
   "source": [
    "sigma = 10\n",
    "max_ray = 1 * 100 / 4 \n",
    "propbability_map = endpoint_model('map.jpg', max_ray, sigma)"
   ]
  },
  {
   "cell_type": "code",
   "execution_count": 16,
   "id": "79f5f01d",
   "metadata": {},
   "outputs": [],
   "source": [
    "# max ray length = 3 m = 300 cm = 75 px\n",
    "sigma = 1\n",
    "max_ray = 3 * 100 / 4 \n",
    "propbability_map = endpoint_model('map.jpg', max_ray, sigma)"
   ]
  },
  {
   "cell_type": "code",
   "execution_count": 18,
   "id": "16ebb7b1",
   "metadata": {},
   "outputs": [],
   "source": [
    "sigma = 5\n",
    "max_ray = 3 * 100 / 4 \n",
    "propbability_map = endpoint_model('map.jpg', max_ray, sigma)"
   ]
  },
  {
   "cell_type": "code",
   "execution_count": 19,
   "id": "7fc9bfbb",
   "metadata": {},
   "outputs": [],
   "source": [
    "sigma = 10\n",
    "max_ray = 3 * 100 / 4 \n",
    "propbability_map = endpoint_model('map.jpg', max_ray, sigma)"
   ]
  }
 ],
 "metadata": {
  "kernelspec": {
   "display_name": "Python 3 (ipykernel)",
   "language": "python",
   "name": "python3"
  },
  "language_info": {
   "codemirror_mode": {
    "name": "ipython",
    "version": 3
   },
   "file_extension": ".py",
   "mimetype": "text/x-python",
   "name": "python",
   "nbconvert_exporter": "python",
   "pygments_lexer": "ipython3",
   "version": "3.9.12"
  }
 },
 "nbformat": 4,
 "nbformat_minor": 5
}
